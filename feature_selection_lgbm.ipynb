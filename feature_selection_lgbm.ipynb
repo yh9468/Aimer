{
 "cells": [
  {
   "cell_type": "code",
   "execution_count": 73,
   "metadata": {},
   "outputs": [],
   "source": [
    "import pandas as pd\n",
    "import numpy as np\n",
    "import sklearn\n",
    "from sklearn.preprocessing import LabelEncoder, StandardScaler, QuantileTransformer, RobustScaler\n",
    "from sklearn.model_selection import train_test_split, RandomizedSearchCV, KFold, StratifiedKFold\n",
    "from sklearn.metrics import f1_score, mean_squared_error\n",
    "import random, os\n",
    "from lightgbm import LGBMClassifier, LGBMRegressor\n",
    "import warnings\n",
    "warnings.filterwarnings('ignore')\n",
    "from optuna.samplers import TPESampler\n",
    "from optuna.pruners import SuccessiveHalvingPruner\n",
    "import optuna\n",
    "from sklearn.impute import KNNImputer\n",
    "from sklearn.preprocessing import RobustScaler, LabelEncoder, StandardScaler\n",
    "from pytorch_tabnet.tab_model import TabNetClassifier"
   ]
  },
  {
   "cell_type": "code",
   "execution_count": 2,
   "metadata": {},
   "outputs": [],
   "source": [
    "def seed_everything(seed):\n",
    "    random.seed(seed)\n",
    "    os.environ['PYTHONHASHSEED'] = str(seed)\n",
    "    np.random.seed(seed)\n",
    "SEED = 25\n",
    "seed_everything(SEED) "
   ]
  },
  {
   "cell_type": "code",
   "execution_count": 58,
   "metadata": {},
   "outputs": [],
   "source": [
    "train = pd.read_csv('dataset/train.csv')\n",
    "test = pd.read_csv('dataset/test.csv')\n",
    "\n",
    "train.drop(columns=[\"PRODUCT_ID\", \"TIMESTAMP\", 'LINE', 'PRODUCT_CODE'], inplace=True)\n",
    "test.drop(columns=[\"PRODUCT_ID\", \"TIMESTAMP\", 'LINE', 'PRODUCT_CODE'], inplace=True)\n",
    "y = train['Y_Quality']\n",
    "\n",
    "num_features = test.select_dtypes(exclude=['object']).columns.to_list()\n",
    "\n",
    "\n",
    "#for col in num_features:\n",
    "#    train[col] = train[col].fillna(train[col].median())\n",
    "\n",
    "scaler = StandardScaler()\n",
    "train[num_features] = scaler.fit_transform(train[num_features])\n",
    "test[num_features] = scaler.transform(test[num_features])\n",
    "\n",
    "X = train.drop(columns=['Y_Class', 'Y_Quality'])\n",
    "X_test = test\n",
    "\n",
    "from math import *\n",
    "corr = pd.read_csv('correlation/correlation.csv')\n",
    "# Y_Quality 제거\n",
    "corr = corr.iloc[:-1,:]\n",
    "important = list(corr[abs(corr['correlation'])>=0.1]['feature'])\n",
    "#important\n",
    "X = X[important]\n",
    "X_test = X_test[important]\n",
    "\n",
    "#dup = ~X.T.duplicated()\n",
    "#X = X.loc[:, dup]\n",
    "#X_test = X_test.loc[:, dup]\n",
    "\n",
    "X_columns = X.columns\n",
    "#num_features = X_test.select_dtypes(exclude=['object']).columns.to_list()\n",
    "#scaler = StandardScaler()\n",
    "#X[num_features] = scaler.fit_transform(X[num_features])\n",
    "#X_test[num_features] = scaler.transform(X_test[num_features])\n",
    "imputer = KNNImputer()\n",
    "X = imputer.fit_transform(X)\n",
    "X_test = imputer.transform(X_test)"
   ]
  },
  {
   "cell_type": "code",
   "execution_count": 59,
   "metadata": {},
   "outputs": [
    {
     "data": {
      "text/plain": [
       "array([[-2.06024776e-01, -2.03285896e-01, -5.46848299e-02, ...,\n",
       "         7.07106781e-01,  7.07106781e-01,  1.04988860e+00],\n",
       "       [ 4.39836611e-01,  4.09572321e-01,  2.27488892e-01, ...,\n",
       "         2.82842712e-01,  2.82842712e-01,  2.67163142e-01],\n",
       "       [ 4.07543542e-01,  3.77316626e-01,  2.27488892e-01, ...,\n",
       "        -1.41421356e-01, -1.41421356e-01, -7.50558659e-02],\n",
       "       ...,\n",
       "       [-3.99783192e-01, -3.96820070e-01, -3.36858552e-01, ...,\n",
       "        -1.41421356e+00, -1.41421356e+00, -1.33581571e+00],\n",
       "       [-1.40593824e-14,  8.87834164e-15,  2.40978641e-15, ...,\n",
       "        -1.48029737e-16, -1.48029737e-16,  0.00000000e+00],\n",
       "       [-1.40593824e-14,  8.87834164e-15,  2.40978641e-15, ...,\n",
       "        -1.48029737e-16, -1.48029737e-16,  0.00000000e+00]])"
      ]
     },
     "execution_count": 59,
     "metadata": {},
     "output_type": "execute_result"
    }
   ],
   "source": [
    "X"
   ]
  },
  {
   "cell_type": "code",
   "execution_count": null,
   "metadata": {},
   "outputs": [],
   "source": [
    "def objective(trial):\n",
    "  params = {\n",
    "    'num_leaves': trial.suggest_int('num_leaves', 8, 20, step=1, log=True), \n",
    "    'max_depth': trial.suggest_int('max_depth', 3, 20, step=1, log=True), \n",
    "    'learning_rate': trial.suggest_float('learning_rate', 0.001, 0.1, log=True), \n",
    "    'n_estimators': trial.suggest_int('n_estimators', 50, 150, step=1, log=True), \n",
    "    \"metric\": \"multiclass\",\n",
    "    'class_weight': trial.suggest_categorical('class_weight', ['balanced']),\n",
    "    'min_child_samples': trial.suggest_int('min_child_samples', 10, 50, step=1, log=False), \n",
    "    'subsample': trial.suggest_uniform('subsample', 0.7, 1.0), \n",
    "    'colsample_bytree': trial.suggest_uniform('colsample_bytree', 0.7, 1.0),\n",
    "    'reg_alpha': trial.suggest_uniform('reg_alpha', 0.0, 1.0),\n",
    "    'reg_lambda': trial.suggest_uniform('reg_lambda', 0.0, 1.0),\n",
    "    'random_state': SEED\n",
    "  }\n",
    "\n",
    "  kf = KFold(n_splits=10, shuffle=True, random_state=SEED)\n",
    "  scores = []\n",
    "  for train_index, test_index in kf.split(X, y):\n",
    "    X_train, X_valid = X[train_index], X[test_index]\n",
    "    y_train, y_valid = y.values[train_index], y.values[test_index]\n",
    "    model = LGBMClassifier(verbose=-1, **params)\n",
    "    model.fit(X_train, y_train, eval_set=[(X_valid, y_valid)])\n",
    "    pred = model.predict(X_valid)\n",
    "    f1 = f1_score(y_valid, pred, average='macro')\n",
    "    scores.append(f1)\n",
    "\n",
    "  return np.mean(scores)\n",
    "\n",
    "study = optuna.create_study(direction='maximize', sampler=TPESampler(seed=SEED), pruner=SuccessiveHalvingPruner())\n",
    "study.optimize(objective, n_trials=10000)"
   ]
  },
  {
   "cell_type": "code",
   "execution_count": null,
   "metadata": {},
   "outputs": [],
   "source": [
    "study.best_trial"
   ]
  },
  {
   "cell_type": "code",
   "execution_count": 30,
   "metadata": {},
   "outputs": [],
   "source": [
    "def evaluate_macroF1_lgb(truth, predictions):  \n",
    "    pred_labels = predictions.reshape(len(np.unique(truth)),-1).argmax(axis=0)\n",
    "    f1 = f1_score(truth, pred_labels, average='macro')\n",
    "    return ('macroF1', f1, True) "
   ]
  },
  {
   "cell_type": "code",
   "execution_count": 74,
   "metadata": {},
   "outputs": [
    {
     "name": "stdout",
     "output_type": "stream",
     "text": [
      "Mean F1: 0.005825849158678142\n"
     ]
    }
   ],
   "source": [
    "kf = KFold(n_splits=10, shuffle=True, random_state=25)\n",
    "\n",
    "clfs = []\n",
    "scores = []\n",
    "for train_index, test_index in kf.split(X):\n",
    "    #print(train_index)\n",
    "    X_train, X_valid = X[train_index], X[test_index]\n",
    "    y_train, y_valid = y.values[train_index], y.values[test_index]\n",
    "    \n",
    "    #params = study.best_params\n",
    "    params = {'num_leaves': 17,\n",
    "        'max_depth': 11,\n",
    "        'learning_rate': 0.07028290319049474,\n",
    "       'n_estimators': 78,\n",
    "        'class_weight': 'balanced',\n",
    "        'min_child_samples': 12,\n",
    "        'subsample': 0.831632859850219,\n",
    "        'colsample_bytree': 0.9362544923583181,\n",
    "        'reg_alpha': 0.01941513921336218,\n",
    "        'reg_lambda': 0.0021722692515700652}\n",
    "    \n",
    "    #model = LGBMClassifier(random_state=SEED, verbose=-1, **params)\n",
    "    model = LGBMRegressor(n_estimators = 2000, \n",
    "                        learning_rate = 0.01,\n",
    "                        max_depth = 16,\n",
    "                        min_child_samples = 56,\n",
    "                        subsample = 0.4,\n",
    "                        num_leaves = 160,\n",
    "                        random_state = 42,\n",
    "                        verbose=-1,\n",
    "                        n_jobs = 8)\n",
    "    model.fit(X_train, y_train, eval_set=[(X_valid, y_valid)])\n",
    "    pred = model.predict(X_valid)\n",
    "    #f1 = f1_score(y_valid, pred, average='macro')\n",
    "    score = mean_squared_error(y_valid, pred) ** 0.5\n",
    "    scores.append(score)\n",
    "    clfs.append(model)\n",
    "print('Mean F1:', np.mean(scores))\n",
    "#0.682161892591053\n",
    "#0.6901148288419674"
   ]
  },
  {
   "cell_type": "code",
   "execution_count": 75,
   "metadata": {},
   "outputs": [],
   "source": [
    "import matplotlib.pyplot as plt\n",
    "import seaborn as sns\n",
    "def display_importances(feature_importance_df_, doWorst=False, n_feat=50):\n",
    "    # Plot feature importances\n",
    "    if not doWorst:\n",
    "        cols = feature_importance_df_[[\"feature\", \"importance\"]].groupby(\"feature\").mean().sort_values(\n",
    "            by=\"importance\", ascending=False)[:n_feat].index        \n",
    "    else:\n",
    "        cols = feature_importance_df_[[\"feature\", \"importance\"]].groupby(\"feature\").mean().sort_values(\n",
    "            by=\"importance\", ascending=False)[-n_feat:].index\n",
    "    \n",
    "    mean_imp = feature_importance_df_[[\"feature\", \"importance\"]].groupby(\"feature\").mean()\n",
    "    df_2_neglect = mean_imp[mean_imp['importance'] < 1e-3]\n",
    "    print('The list of features with 0 importance: ')\n",
    "    print(df_2_neglect.index.values.tolist())\n",
    "    del mean_imp, df_2_neglect\n",
    "    \n",
    "    best_features = feature_importance_df_.loc[feature_importance_df_.feature.isin(cols)]\n",
    "    \n",
    "    plt.figure(figsize=(8,10))\n",
    "    sns.barplot(x=\"importance\", y=\"feature\", \n",
    "                data=best_features.sort_values(by=\"importance\", ascending=False))\n",
    "    plt.title('LightGBM Features')\n",
    "    plt.tight_layout()\n",
    "    #plt.savefig('lgbm_importances.png')"
   ]
  },
  {
   "cell_type": "code",
   "execution_count": 80,
   "metadata": {},
   "outputs": [],
   "source": [
    "import shap\n",
    "def print_plot(fold):\n",
    "    train = pd.read_csv('dataset/train.csv')\n",
    "\n",
    "    train.drop(columns=[\"PRODUCT_ID\", \"TIMESTAMP\", 'LINE', 'PRODUCT_CODE'], inplace=True)\n",
    "    y = train['Y_Class']\n",
    "    kf = KFold(n_splits=10, shuffle=True, random_state=25)\n",
    "\n",
    "    clfs = []\n",
    "    scores = []\n",
    "    idx = 0\n",
    "    for train_index, test_index in kf.split(X):\n",
    "        idx += 1\n",
    "        if fold == idx:\n",
    "            \n",
    "            importance_df = pd.DataFrame()\n",
    "            #print(train_index)\n",
    "            X_train, X_valid = X[train_index], X[test_index]\n",
    "            y_train, y_valid = y.values[train_index], y.values[test_index]\n",
    "            params = {'num_leaves': 17,\n",
    "            'max_depth': 11,\n",
    "            'learning_rate': 0.07028290319049474,\n",
    "            'n_estimators': 78,\n",
    "            'class_weight': 'balanced',\n",
    "            'min_child_samples': 12,\n",
    "            'subsample': 0.831632859850219,\n",
    "            'colsample_bytree': 0.9362544923583181,\n",
    "            'reg_alpha': 0.01941513921336218,\n",
    "            'reg_lambda': 0.0021722692515700652}\n",
    "    \n",
    "            model = LGBMClassifier(random_state=SEED, verbose=-1, **params)\n",
    "            #model = LGBMRegressor(n_estimators = 2000, \n",
    "            #                        learning_rate = 0.01,\n",
    "            #                        max_depth = 16,\n",
    "            #                        min_child_samples = 56,\n",
    "            #                        subsample = 0.4,\n",
    "            #                        num_leaves = 160,\n",
    "            #                        random_state = 42,\n",
    "            #                        verbose=-1,\n",
    "            #                        n_jobs = 8)\n",
    "\n",
    "            model.fit(X_train, y_train, eval_set=[(X_valid, y_valid)])\n",
    "                \n",
    "            importance_df[\"feature\"] = X_columns.tolist()      \n",
    "            importance_df[\"importance\"] = model.booster_.feature_importance('gain')\n",
    "            #display_importances(feature_importance_df_=importance_df, n_feat=50)\n",
    "            shap_values = shap.TreeExplainer(model.booster_).shap_values(X_train)\n",
    "            shap.summary_plot(shap_values, X, plot_type='bar')\n",
    "        "
   ]
  },
  {
   "cell_type": "code",
   "execution_count": 81,
   "metadata": {},
   "outputs": [
    {
     "data": {
      "image/png": "[encoded data removed]",
      "text/plain": [
       "<Figure size 576x684 with 1 Axes>"
      ]
     },
     "metadata": {
      "needs_background": "light"
     },
     "output_type": "display_data"
    }
   ],
   "source": [
    "print_plot(1)"
   ]
  },
  {
   "cell_type": "code",
   "execution_count": null,
   "metadata": {},
   "outputs": [],
   "source": [
    "preds = []\n",
    "for i, model in enumerate(clfs):\n",
    "    pred = model.predict_proba(X_test)\n",
    "    if i == 0:\n",
    "        preds = pred\n",
    "    else:\n",
    "        preds += pred\n",
    "print(preds)\n",
    "final_pred = np.argmax(preds, axis=1)\n",
    "\n",
    "submit = pd.read_csv('sample_submission.csv')\n",
    "submit['Y_Class'] = final_pred\n",
    "submit.to_csv('submission.csv', index=False)\n",
    "final_pred"
   ]
  },
  {
   "cell_type": "code",
   "execution_count": null,
   "metadata": {},
   "outputs": [],
   "source": []
  },
  {
   "cell_type": "code",
   "execution_count": null,
   "metadata": {},
   "outputs": [],
   "source": []
  }
 ],
 "metadata": {
  "kernelspec": {
   "display_name": "base",
   "language": "python",
   "name": "python3"
  },
  "language_info": {
   "codemirror_mode": {
    "name": "ipython",
    "version": 3
   },
   "file_extension": ".py",
   "mimetype": "text/x-python",
   "name": "python",
   "nbconvert_exporter": "python",
   "pygments_lexer": "ipython3",
   "version": "3.9.7"
  },
  "orig_nbformat": 4,
  "vscode": {
   "interpreter": {
    "hash": "e2e4a47e36f0811c316f759d1a92830bb55dbd78977c69f453a1e4981941b515"
   }
  }
 },
 "nbformat": 4,
 "nbformat_minor": 2
}
